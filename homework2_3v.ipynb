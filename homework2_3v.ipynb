{
 "cells": [
  {
   "cell_type": "markdown",
   "id": "c3e89aca-6c52-4b20-b1a3-9279ef0fd99b",
   "metadata": {},
   "source": [
    "### Deep Q-Network (DQN) on LunarLander-v2\n",
    "\n",
    "https://github.com/goodboychan/goodboychan.github.io/blob/main/_notebooks/2021-05-07-DQN-LunarLander.ipynb"
   ]
  },
  {
   "cell_type": "markdown",
   "source": [
    "Домашнее задание: Задача с конечным набором дискретных действий\n",
    "\n",
    "Цель: В процессе выполнения задания вы проведёте первичный анализ поставленной задачи и выберете подходящий алгоритм.\n",
    "\n",
    "Для успешного выполнения задания вам потребуется:\n",
    "\n",
    "- понимание отличий между средами с дискретными и непрерывным набором действий;\n",
    "- навык оценки задачи и выбора подходящего алгоритма;\n",
    "- навык разработки несложных алгоритмов на Python;\n",
    "- навык реализации нейронных сетей с использованием фреймворка PyTorch;\n",
    "- навык отладки алгоритма и выбора оптимальных гиперпараметров.\n",
    "\n",
    "Пошаговая инструкция выполнения домашнего задания:\n",
    "\n",
    "- реализуйте алгоритм DQN с реплей буффером и мягким обновлением целевой сети;\n",
    "- обучите агента в среде Lunar Lander;\n",
    "- представьте исходный код, обученного агента и график средней награды за эпизод и средней наградой за 100 эпизодов по мере обучения агента."
   ],
   "metadata": {
    "collapsed": false
   }
  },
  {
   "cell_type": "code",
   "execution_count": 59,
   "id": "22518486-3c2f-47fe-92b3-1502875eacfe",
   "metadata": {
    "ExecuteTime": {
     "start_time": "2024-01-13T18:53:50.572785Z",
     "end_time": "2024-01-13T18:53:50.903811Z"
    }
   },
   "outputs": [],
   "source": [
    "import gymnasium as gym\n",
    "import random\n",
    "\n",
    "import torch\n",
    "import torch.nn as nn\n",
    "import torch.nn.functional as F\n",
    "import torch.optim as optim\n",
    "\n",
    "import matplotlib.pyplot as plt\n",
    "\n",
    "import numpy as np\n",
    "from collections import deque, namedtuple"
   ]
  },
  {
   "cell_type": "markdown",
   "id": "f75f934c-6921-43aa-8389-6df4b993eca4",
   "metadata": {},
   "source": [
    "### Instantiate the Environment and Agent"
   ]
  },
  {
   "cell_type": "code",
   "execution_count": 60,
   "id": "594828b6-da33-481d-ab42-041e8c17ffea",
   "metadata": {
    "ExecuteTime": {
     "start_time": "2024-01-13T18:53:50.601785Z",
     "end_time": "2024-01-13T18:53:51.127798Z"
    }
   },
   "outputs": [
    {
     "name": "stdout",
     "output_type": "stream",
     "text": [
      "State shape:  (8,)\n",
      "Number of actions:  4\n"
     ]
    }
   ],
   "source": [
    "env = gym.make('LunarLander-v2')\n",
    "print('State shape: ', env.observation_space.shape)\n",
    "print('Number of actions: ', env.action_space.n)"
   ]
  },
  {
   "cell_type": "markdown",
   "id": "03735bdc-c07e-4c87-b208-cce894bb8e43",
   "metadata": {},
   "source": [
    "### Define Neural Network Architecture"
   ]
  },
  {
   "cell_type": "code",
   "execution_count": 61,
   "id": "ae834607-433e-4ed5-8b23-8de7b53230a8",
   "metadata": {
    "ExecuteTime": {
     "start_time": "2024-01-13T18:53:50.633797Z",
     "end_time": "2024-01-13T18:53:51.142797Z"
    }
   },
   "outputs": [],
   "source": [
    "class QNetwork(nn.Module):\n",
    "    \"\"\"Actor (Policy) Model.\"\"\"\n",
    "\n",
    "    def __init__(self, state_size, action_size, seed):\n",
    "        \"\"\"Initialize parameters and build model.\n",
    "        Params\n",
    "        ======\n",
    "            state_size (int): Dimension of each state\n",
    "            action_size (int): Dimension of each action\n",
    "            seed (int): Random seed\n",
    "        \"\"\"\n",
    "        super(QNetwork, self).__init__()\n",
    "        self.seed = torch.manual_seed(seed)\n",
    "        self.layer1 = nn.Linear(state_size, 64)\n",
    "        self.layer2 = nn.Linear(64, 64)\n",
    "        self.layer3 = nn.Linear(64, action_size)\n",
    "        \n",
    "    def forward(self, state):\n",
    "        \"\"\"Build a network that maps state -> action values.\"\"\"\n",
    "        x = self.layer1(state)\n",
    "        x = F.relu(x)\n",
    "        x = self.layer2(x)\n",
    "        x = F.relu(x)\n",
    "        return self.layer3(x)"
   ]
  },
  {
   "cell_type": "markdown",
   "id": "b0873298-cab0-4dcb-9c84-4782dc914dd7",
   "metadata": {},
   "source": [
    "### Define hyperparameter"
   ]
  },
  {
   "cell_type": "code",
   "execution_count": 62,
   "id": "7010c525-29d8-445c-8769-6cfb7d00948b",
   "metadata": {
    "ExecuteTime": {
     "start_time": "2024-01-13T18:53:50.661787Z",
     "end_time": "2024-01-13T18:53:51.170798Z"
    }
   },
   "outputs": [],
   "source": [
    "BUFFER_SIZE = 10000     # replay buffer size\n",
    "BATCH_SIZE = 64         # minibatch size\n",
    "GAMMA = 0.99            # discount factor\n",
    "TAU = 0.001             # for soft update of target parameters\n",
    "LR = 0.0005             # learning rate\n",
    "UPDATE_EVERY = 4        # how often to update the network"
   ]
  },
  {
   "cell_type": "code",
   "execution_count": 63,
   "id": "334bb7d8-7d62-4cfb-96f7-f8809ba8e089",
   "metadata": {
    "ExecuteTime": {
     "start_time": "2024-01-13T18:53:50.678787Z",
     "end_time": "2024-01-13T18:53:51.171798Z"
    }
   },
   "outputs": [],
   "source": [
    "device = torch.device(\"cuda:0\" if torch.cuda.is_available() else \"cpu\")"
   ]
  },
  {
   "cell_type": "markdown",
   "id": "1d861efe-200c-4690-9698-722abbf0b77c",
   "metadata": {},
   "source": [
    "### Define Agent"
   ]
  },
  {
   "cell_type": "code",
   "execution_count": 64,
   "id": "0530f456-2bfd-4061-ad62-f14846a9a284",
   "metadata": {
    "ExecuteTime": {
     "start_time": "2024-01-13T18:53:50.792785Z",
     "end_time": "2024-01-13T18:53:51.204652Z"
    }
   },
   "outputs": [],
   "source": [
    "class Agent():\n",
    "    \"\"\"Interacts with and learns from the environment.\"\"\"\n",
    "\n",
    "    def __init__(self, state_size, action_size, seed):\n",
    "        \"\"\"Initialize an Agent object.\n",
    "        \n",
    "        Params\n",
    "        ======\n",
    "            state_size (int): dimension of each state\n",
    "            action_size (int): dimension of each action\n",
    "            seed (int): random seed\n",
    "        \"\"\"\n",
    "        self.state_size = state_size\n",
    "        self.action_size = action_size\n",
    "\n",
    "        # Q-Network\n",
    "        self.qnetwork_local = QNetwork(state_size, action_size, seed).to(device)\n",
    "        self.qnetwork_target = QNetwork(state_size, action_size, seed).to(device)\n",
    "        self.optimizer = optim.Adam(self.qnetwork_local.parameters(), lr=LR)\n",
    "\n",
    "        # Replay memory\n",
    "        self.memory = ReplayBuffer(action_size, BUFFER_SIZE, BATCH_SIZE, seed)\n",
    "        # Initialize time step (for updating every UPDATE_EVERY steps)\n",
    "        self.t_step = 0\n",
    "    \n",
    "    def step(self, state, action, reward, next_state, done):\n",
    "        # Save experience in replay memory\n",
    "        self.memory.add(state, action, reward, next_state, done)\n",
    "        \n",
    "        # Learn every UPDATE_EVERY time steps.\n",
    "        self.t_step = (self.t_step + 1) % UPDATE_EVERY\n",
    "        if self.t_step == 0:\n",
    "            # If enough samples are available in memory, get random subset and learn\n",
    "            if len(self.memory) > BATCH_SIZE:\n",
    "                experiences = self.memory.sample()\n",
    "                self.learn(experiences, GAMMA)\n",
    "\n",
    "    def act(self, state, eps=0.):\n",
    "        \"\"\"Returns actions for given state as per current policy.\n",
    "        \n",
    "        Params\n",
    "        ======\n",
    "            state (array_like): current state\n",
    "            eps (float): epsilon, for epsilon-greedy action selection\n",
    "        \"\"\"\n",
    "        state = torch.from_numpy(state).float().unsqueeze(0).to(device)\n",
    "        self.qnetwork_local.eval()\n",
    "        with torch.no_grad():\n",
    "            action_values = self.qnetwork_local(state)\n",
    "        self.qnetwork_local.train()\n",
    "\n",
    "        # Epsilon-greedy action selection\n",
    "        if random.random() > eps:\n",
    "            return np.argmax(action_values.cpu().data.numpy())\n",
    "        else:\n",
    "            return random.choice(np.arange(self.action_size))\n",
    "\n",
    "    def learn(self, experiences, gamma):\n",
    "        \"\"\"Update value parameters using given batch of experience tuples.\n",
    "\n",
    "        Params\n",
    "        ======\n",
    "            experiences (Tuple[torch.Variable]): tuple of (s, a, r, s', done) tuples \n",
    "            gamma (float): discount factor\n",
    "        \"\"\"\n",
    "        # Obtain random minibatch of tuples from D\n",
    "        states, actions, rewards, next_states, dones = experiences\n",
    "\n",
    "        ## Compute and minimize the loss\n",
    "        ### Extract next maximum estimated value from target network\n",
    "        q_targets_next = self.qnetwork_target(next_states).detach().max(1)[0].unsqueeze(1)\n",
    "        ### Calculate target value from bellman equation\n",
    "        q_targets = rewards + gamma * q_targets_next * (1 - dones)\n",
    "        ### Calculate expected value from local network\n",
    "        q_expected = self.qnetwork_local(states).gather(1, actions)\n",
    "        \n",
    "        ### Loss calculation (we used Mean squared error)\n",
    "        loss = F.mse_loss(q_expected, q_targets)\n",
    "        self.optimizer.zero_grad()\n",
    "        loss.backward()\n",
    "        self.optimizer.step()\n",
    "\n",
    "        # ------------------- update target network ------------------- #\n",
    "        self.soft_update(self.qnetwork_local, self.qnetwork_target, TAU)                     \n",
    "\n",
    "    def soft_update(self, local_model, target_model, tau):\n",
    "        \"\"\"Soft update model parameters.\n",
    "        θ_target = τ*θ_local + (1 - τ)*θ_target\n",
    "\n",
    "        Params\n",
    "        ======\n",
    "            local_model (PyTorch model): weights will be copied from\n",
    "            target_model (PyTorch model): weights will be copied to\n",
    "            tau (float): interpolation parameter \n",
    "        \"\"\"\n",
    "        for target_param, local_param in zip(target_model.parameters(), local_model.parameters()):\n",
    "            target_param.data.copy_(tau*local_param.data + (1.0-tau)*target_param.data)"
   ]
  },
  {
   "cell_type": "markdown",
   "id": "4eb5db66-ecb3-4bf4-aee1-3e18003c17b0",
   "metadata": {},
   "source": [
    "### Define Replay Buffer"
   ]
  },
  {
   "cell_type": "code",
   "execution_count": 65,
   "id": "f74bb08e-0b95-42db-9fc8-d609514d55af",
   "metadata": {
    "ExecuteTime": {
     "start_time": "2024-01-13T18:53:50.819879Z",
     "end_time": "2024-01-13T18:53:51.204704Z"
    }
   },
   "outputs": [],
   "source": [
    "class ReplayBuffer:\n",
    "    \"\"\"Fixed-size buffer to store experience tuples.\"\"\"\n",
    "\n",
    "    def __init__(self, action_size, buffer_size, batch_size, seed):\n",
    "        \"\"\"Initialize a ReplayBuffer object.\n",
    "\n",
    "        Params\n",
    "        ======\n",
    "            action_size (int): dimension of each action\n",
    "            buffer_size (int): maximum size of buffer\n",
    "            batch_size (int): size of each training batch\n",
    "            seed (int): random seed\n",
    "        \"\"\"\n",
    "        self.action_size = action_size\n",
    "        self.memory = deque(maxlen=buffer_size)  \n",
    "        self.batch_size = batch_size\n",
    "        self.experience = namedtuple(\"Experience\", field_names=[\"state\", \"action\", \"reward\", \"next_state\", \"done\"])\n",
    "    \n",
    "    def add(self, state, action, reward, next_state, done):\n",
    "        \"\"\"Add a new experience to memory.\"\"\"\n",
    "        e = self.experience(state, action, reward, next_state, done)\n",
    "        self.memory.append(e)\n",
    "    \n",
    "    def sample(self):\n",
    "        \"\"\"Randomly sample a batch of experiences from memory.\"\"\"\n",
    "        experiences = random.sample(self.memory, k=self.batch_size)\n",
    "\n",
    "        states = torch.from_numpy(np.vstack([e.state for e in experiences if e is not None])).float().to(device)\n",
    "        actions = torch.from_numpy(np.vstack([e.action for e in experiences if e is not None])).long().to(device)\n",
    "        rewards = torch.from_numpy(np.vstack([e.reward for e in experiences if e is not None])).float().to(device)\n",
    "        next_states = torch.from_numpy(np.vstack([e.next_state for e in experiences if e is not None])).float().to(device)\n",
    "        dones = torch.from_numpy(np.vstack([e.done for e in experiences if e is not None]).astype(np.uint8)).float().to(device)\n",
    "  \n",
    "        return states, actions, rewards, next_states, dones\n",
    "\n",
    "    def __len__(self):\n",
    "        \"\"\"Return the current size of internal memory.\"\"\"\n",
    "        return len(self.memory)"
   ]
  },
  {
   "cell_type": "markdown",
   "id": "6bd61b8d-b63e-444f-9cb7-6295df46995d",
   "metadata": {},
   "source": [
    "### Training Process"
   ]
  },
  {
   "cell_type": "code",
   "execution_count": 66,
   "id": "c907ab57-ed48-4824-b27c-8c7d707d6919",
   "metadata": {
    "ExecuteTime": {
     "start_time": "2024-01-13T18:53:50.834794Z",
     "end_time": "2024-01-13T18:53:51.204704Z"
    }
   },
   "outputs": [],
   "source": [
    "def dqn(n_episodes=4000, max_t=1000, eps_start=1.0, eps_end=0.01, eps_decay=0.995):\n",
    "    \"\"\"Deep Q-Learning.\n",
    "    \n",
    "    Params\n",
    "    ======\n",
    "        n_episodes (int): maximum number of training episodes\n",
    "        max_t (int): maximum number of timesteps per episode\n",
    "        eps_start (float): starting value of epsilon, for epsilon-greedy action selection\n",
    "        eps_end (float): minimum value of epsilon\n",
    "        eps_decay (float): multiplicative factor (per episode) for decreasing epsilon\n",
    "    \"\"\"\n",
    "    scores = []                        # list containing scores from each episode\n",
    "    scores_window = deque(maxlen=100)  # last 100 scores\n",
    "    eps = eps_start                    # initialize epsilon\n",
    "    for i_episode in range(1, n_episodes+1): # tqdm(..)\n",
    "        state, info = env.reset()\n",
    "        score = 0\n",
    "        for t in range(max_t):\n",
    "            action = agent.act(state, eps)\n",
    "            next_state, reward, done, truncated, _ = env.step(action)\n",
    "            agent.step(state, action, reward, next_state, done or truncated)\n",
    "            state = next_state\n",
    "            score += reward\n",
    "            if done or truncated:\n",
    "                break \n",
    "        scores_window.append(score)       # save most recent score\n",
    "        scores.append(score)              # save most recent score\n",
    "        eps = max(eps_end, eps_decay*eps) # decrease epsilon\n",
    "        print('\\rEpisode {}\\tAverage Score: {:.2f}'.format(i_episode, np.mean(scores_window)), end=\"\")\n",
    "        if i_episode % 100 == 0:\n",
    "            print('\\rEpisode {}\\tAverage Score: {:.2f}'.format(i_episode, np.mean(scores_window)))\n",
    "        if np.mean(scores_window)>=250.0:\n",
    "            print('\\nEnvironment solved in {:d} episodes!\\tAverage Score: {:.2f}'.format(i_episode-100, np.mean(scores_window)))\n",
    "            torch.save(agent.qnetwork_local.state_dict(), 'checkpoint.pth')\n",
    "            break\n",
    "    return scores"
   ]
  },
  {
   "cell_type": "code",
   "execution_count": 67,
   "outputs": [
    {
     "name": "stdout",
     "output_type": "stream",
     "text": [
      "Episode 100\tAverage Score: -184.55\n",
      "Episode 200\tAverage Score: -143.89\n",
      "Episode 300\tAverage Score: -17.335\n",
      "Episode 400\tAverage Score: 15.544\n",
      "Episode 500\tAverage Score: 116.48\n",
      "Episode 600\tAverage Score: 161.57\n",
      "Episode 700\tAverage Score: 147.79\n",
      "Episode 800\tAverage Score: 169.39\n",
      "Episode 900\tAverage Score: 167.96\n",
      "Episode 1000\tAverage Score: 166.62\n",
      "Episode 1100\tAverage Score: 167.74\n",
      "Episode 1200\tAverage Score: 167.16\n",
      "Episode 1300\tAverage Score: 189.04\n",
      "Episode 1400\tAverage Score: 207.74\n",
      "Episode 1500\tAverage Score: 184.56\n",
      "Episode 1600\tAverage Score: 201.31\n",
      "Episode 1700\tAverage Score: 192.22\n",
      "Episode 1800\tAverage Score: 218.73\n",
      "Episode 1900\tAverage Score: 207.25\n",
      "Episode 2000\tAverage Score: 211.09\n",
      "Episode 2100\tAverage Score: 216.61\n",
      "Episode 2200\tAverage Score: 157.22\n",
      "Episode 2300\tAverage Score: 117.86\n",
      "Episode 2400\tAverage Score: 171.13\n",
      "Episode 2500\tAverage Score: 197.92\n",
      "Episode 2600\tAverage Score: 241.16\n",
      "Episode 2623\tAverage Score: 250.34\n",
      "Environment solved in 2523 episodes!\tAverage Score: 250.34\n"
     ]
    }
   ],
   "source": [
    "agent = Agent(state_size=8, action_size=4, seed=0)\n",
    "scores = dqn()"
   ],
   "metadata": {
    "collapsed": false,
    "ExecuteTime": {
     "start_time": "2024-01-13T18:53:50.850787Z",
     "end_time": "2024-01-13T19:14:07.661075Z"
    }
   }
  },
  {
   "cell_type": "markdown",
   "id": "1ba6726a-977a-4345-8897-021302bfc262",
   "metadata": {},
   "source": [
    "### Plot the learning progress"
   ]
  },
  {
   "cell_type": "code",
   "execution_count": 68,
   "id": "d2d491c9-a5dc-4c32-a95d-796f85c60c83",
   "metadata": {
    "ExecuteTime": {
     "start_time": "2024-01-13T19:14:07.647067Z",
     "end_time": "2024-01-13T19:14:07.798098Z"
    }
   },
   "outputs": [
    {
     "data": {
      "text/plain": "<Figure size 640x480 with 1 Axes>",
      "image/png": "[encoded data removed]"
     },
     "metadata": {},
     "output_type": "display_data"
    }
   ],
   "source": [
    "# Вычисление скользящего среднего\n",
    "window_size = 50\n",
    "moving_avg = np.convolve(scores, np.ones(window_size)/window_size, mode='valid')\n",
    "\n",
    "# plot the scores\n",
    "fig = plt.figure()\n",
    "ax = fig.add_subplot(111)\n",
    "plt.plot(moving_avg) # np.arange(len(scores)), scores)\n",
    "plt.ylabel('Score')\n",
    "plt.xlabel('Episode #')\n",
    "plt.show()"
   ]
  },
  {
   "cell_type": "markdown",
   "id": "ebb450a9-c530-4f10-b629-53a2d69860c2",
   "metadata": {},
   "source": [
    "### Show result"
   ]
  },
  {
   "cell_type": "code",
   "execution_count": 69,
   "id": "c9806a31-f777-468e-8987-0139708ef532",
   "metadata": {
    "ExecuteTime": {
     "start_time": "2024-01-13T19:14:07.792089Z",
     "end_time": "2024-01-13T19:16:25.120559Z"
    }
   },
   "outputs": [
    {
     "name": "stdout",
     "output_type": "stream",
     "text": [
      "episode reward: 100\n",
      "episode reward: 100\n",
      "episode reward: 100\n",
      "episode reward: 100\n",
      "episode reward: 100\n",
      "episode reward: 100\n",
      "episode reward: 100\n",
      "episode reward: 100\n",
      "episode reward: 100\n",
      "episode reward: 100\n",
      "episode reward: 100\n",
      "episode reward: 100\n",
      "episode reward: 100\n",
      "episode reward: 100\n",
      "episode reward: 100\n",
      "episode reward: 100\n",
      "episode reward: 100\n",
      "episode reward: 100\n",
      "episode reward: 100\n",
      "episode reward: 100\n",
      "episode reward: -0.15103449057117643\n",
      "episode reward: 100\n",
      "episode reward: 100\n",
      "episode reward: 100\n",
      "episode reward: 100\n",
      "End.\n"
     ]
    }
   ],
   "source": [
    "env_human = gym.make(\"LunarLander-v2\", render_mode='human')\n",
    "\n",
    "agent = Agent(state_size=env.observation_space.shape[0], action_size=env.action_space.n, seed=0)\n",
    "agent.qnetwork_local.load_state_dict(torch.load('checkpoint.pth'))\n",
    "\n",
    "for i_episode in range(25):\n",
    "    observation, info = env_human.reset()\n",
    "    episode_reward = 0\n",
    "\n",
    "    pointer = 0\n",
    "    while True:\n",
    "        action_human = agent.act(observation)\n",
    "        observation, reward, terminated, truncated, _ = env_human.step(action_human)\n",
    "        episode_reward += reward\n",
    "\n",
    "        if terminated or truncated or ++pointer >= 500:\n",
    "            break\n",
    "\n",
    "    print(f'episode reward: {reward}')\n",
    "\n",
    "env_human.close()\n",
    "print('End.')"
   ]
  },
  {
   "cell_type": "code",
   "execution_count": 69,
   "outputs": [],
   "source": [],
   "metadata": {
    "collapsed": false,
    "ExecuteTime": {
     "start_time": "2024-01-13T19:16:25.101020Z",
     "end_time": "2024-01-13T19:16:25.120559Z"
    }
   }
  }
 ],
 "metadata": {
  "kernelspec": {
   "display_name": "Python 3",
   "language": "python",
   "name": "python3"
  },
  "language_info": {
   "codemirror_mode": {
    "name": "ipython",
    "version": 3
   },
   "file_extension": ".py",
   "mimetype": "text/x-python",
   "name": "python",
   "nbconvert_exporter": "python",
   "pygments_lexer": "ipython3",
   "version": "3.7.10"
  }
 },
 "nbformat": 4,
 "nbformat_minor": 5
}
